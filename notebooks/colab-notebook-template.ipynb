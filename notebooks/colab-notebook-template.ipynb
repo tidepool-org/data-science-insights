{
 "nbformat": 4,
 "nbformat_minor": 0,
 "metadata": {
  "colab": {
   "name": "colab-notebook-template.ipynb",
   "provenance": [],
   "private_outputs": true,
   "authorship_tag": "ABX9TyNX9CdnjefNgj1EiIo9O5Xd",
   "include_colab_link": true
  },
  "kernelspec": {
   "name": "python3",
   "display_name": "Python 3"
  }
 },
 "cells": [
  {
   "cell_type": "markdown",
   "metadata": {
    "id": "view-in-github",
    "colab_type": "text"
   },
   "source": [
    "<a href=\"https://colab.research.google.com/gist/ed-nykaza/e1fff0a7368a17955c7bc268b4fb68a1/colab-notebook-template.ipynb\" target=\"_parent\"><img src=\"https://colab.research.google.com/assets/colab-badge.svg\" alt=\"Open In Colab\"/></a>"
   ]
  },
  {
   "cell_type": "markdown",
   "metadata": {
    "id": "X8R05msFiDTc",
    "colab_type": "text"
   },
   "source": [
    "# Your Awesome Colab Notebook"
   ]
  },
  {
   "cell_type": "code",
   "metadata": {
    "id": "moWsVYhvh-eB",
    "colab_type": "code",
    "colab": {}
   },
   "source": [
    "# REQUIRED LIBRARIES"
   ],
   "execution_count": 0,
   "outputs": []
  },
  {
   "cell_type": "code",
   "metadata": {
    "id": "fdnPJU0ciYbn",
    "colab_type": "code",
    "colab": {}
   },
   "source": [
    "# FUNCTIONS"
   ],
   "execution_count": 0,
   "outputs": []
  },
  {
   "cell_type": "code",
   "metadata": {
    "id": "YNEACvV7idM2",
    "colab_type": "code",
    "colab": {}
   },
   "source": [
    "# LOAD DATA"
   ],
   "execution_count": 0,
   "outputs": []
  },
  {
   "cell_type": "code",
   "metadata": {
    "id": "a5kJVsIPih65",
    "colab_type": "code",
    "colab": {}
   },
   "source": [
    "# YOUR AWESOME CODE"
   ],
   "execution_count": 0,
   "outputs": []
  }
 ]
}