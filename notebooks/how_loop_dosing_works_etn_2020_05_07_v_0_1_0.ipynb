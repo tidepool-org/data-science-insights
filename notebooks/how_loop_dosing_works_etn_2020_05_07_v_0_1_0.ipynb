{
  "nbformat": 4,
  "nbformat_minor": 0,
  "metadata": {
    "colab": {
      "name": "how-loop-dosing-works--etn--2020-05-07--v-0-1-0.ipynb",
      "provenance": []
    },
    "kernelspec": {
      "name": "python3",
      "display_name": "Python 3"
    }
  },
  "cells": [
    {
      "cell_type": "markdown",
      "metadata": {
        "id": "X8R05msFiDTc",
        "colab_type": "text"
      },
      "source": [
        "# How Loop Dosing Decision Works"
      ]
    },
    {
      "cell_type": "code",
      "metadata": {
        "id": "moWsVYhvh-eB",
        "colab_type": "code",
        "colab": {}
      },
      "source": [
        "# REQUIRED LIBRARIES\n",
        "!pip install pyloopkit-test==0.0.15\n",
        "!git clone -b etn/colab-notebook https://github.com/tidepool-org/data-science-insights.git \n",
        "%cd data-science-insights/how_loop_dosing_decision_works\n",
        "from how_loop_dosing_works import make_animation\n",
        "import os\n",
        "import pandas as pd\n"
      ],
      "execution_count": 0,
      "outputs": []
    },
    {
      "cell_type": "code",
      "metadata": {
        "id": "YNEACvV7idM2",
        "colab_type": "code",
        "colab": {}
      },
      "source": [
        "# LOAD AND VIEW SCENARIO\n",
        "filename = \"dosing-threshold-example-1\"\n",
        "scenario = pd.read_csv(os.path.join(\"data\", filename + \".csv\"), index_col=[0])\n",
        "scenario\n"
      ],
      "execution_count": 0,
      "outputs": []
    },
    {
      "cell_type": "code",
      "metadata": {
        "id": "a5kJVsIPih65",
        "colab_type": "code",
        "colab": {}
      },
      "source": [
        "# VIEW DOSING DECISION ANIMATION\n",
        "scenario_fig = make_animation(scenario)\n",
        "scenario_fig.show(renderer='colab')"
      ],
      "execution_count": 0,
      "outputs": []
    }
  ]
}
