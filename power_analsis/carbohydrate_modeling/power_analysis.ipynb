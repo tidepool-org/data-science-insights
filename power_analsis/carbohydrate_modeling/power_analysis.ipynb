{
 "cells": [
  {
   "cell_type": "code",
   "execution_count": 8,
   "metadata": {},
   "outputs": [
    {
     "name": "stdout",
     "output_type": "stream",
     "text": [
      "7.0\n",
      "50.0\n",
      "63.0\n",
      "63.0\n"
     ]
    }
   ],
   "source": [
    "from scipy.stats import norm\n",
    "import math\n",
    "import matplotlib.pyplot as plt\n",
    "import numpy as np\n",
    "\n",
    "def one_sample_non_inferiority(mu1, mu0, delta, sd, alpha, beta):\n",
    "    \n",
    "    n = (sd * (norm.ppf(1-alpha) + norm.ppf(1-beta)) / (mu1-mu0 - delta))**2 \n",
    "    sample_size = np.ceil(n)\n",
    "    \n",
    "    return sample_size\n",
    "\n",
    "def two_sample_non_inferiority(muA, muB, delta, sd, kappa, alpha, beta):\n",
    "    n = (1+ 1/kappa) * (sd * (norm.ppf(1 - alpha) + norm.ppf(1- beta)) / (muA - muB - delta))**2\n",
    "    sample_size = np.ceil(n) \n",
    "\n",
    "    return sample_size\n",
    "\n",
    "def compare_k_means(muA, muB, sd, tau, alpha, beta):\n",
    "\n",
    "    n = 2 * (sd * (norm.ppf(1-alpha/(2/tau)) + norm.ppf(1-beta)) / (muA - muB))**2\n",
    "    sample_size = np.ceil(n) \n",
    "\n",
    "    return sample_size\n",
    "\n",
    "def compare_2_means(muA, muB, sd, kappa, alpha, beta):\n",
    "\n",
    "    n = (1 + 1/kappa) * (sd * (norm.ppf(1-alpha/2) + norm.ppf(1-beta)) / (muA - muB)) ** 2\n",
    "    sample_size = np.ceil(n)\n",
    "\n",
    "    return sample_size\n",
    "\n",
    "\n",
    "mu1=2\n",
    "mu0=1.5\n",
    "delta=-0.5\n",
    "sd=1\n",
    "alpha=0.05\n",
    "beta=0.20\n",
    "sample_size = one_sample_non_inferiority(mu1, mu0, delta, sd, alpha, beta) \n",
    "print(sample_size) # 7\n",
    "\n",
    "muA=5\n",
    "muB=5\n",
    "delta=5\n",
    "kappa=1\n",
    "sd=10\n",
    "alpha=0.05\n",
    "beta=0.20\n",
    "sample_size = two_sample_non_inferiority(muA, muB, delta, sd, kappa, alpha, beta)\n",
    "print(sample_size) # 50\n",
    "\n",
    "muA=5\n",
    "muB=10\n",
    "sd=10\n",
    "tau=1\n",
    "alpha=0.05\n",
    "beta=0.20\n",
    "sample_size = compare_k_means(muA, muB, sd, tau, alpha, beta)\n",
    "print(sample_size) # 63\n",
    "\n",
    "muA=5\n",
    "muB=10\n",
    "kappa=1\n",
    "sd=10\n",
    "alpha=0.05\n",
    "beta=0.20\n",
    "sample_size = compare_2_means(muA, muB, sd, kappa, alpha, beta)\n",
    "print(sample_size) # 63\n"
   ]
  },
  {
   "cell_type": "code",
   "execution_count": 13,
   "metadata": {},
   "outputs": [
    {
     "name": "stdout",
     "output_type": "stream",
     "text": [
      "313.0\n",
      "157.0\n",
      "1578.0\n",
      "1586.0\n"
     ]
    }
   ],
   "source": [
    "muA = 15.7\n",
    "muB = 14.7\n",
    "sd = 10.05\n",
    "delta = -1\n",
    "\n",
    "alpha = 0.05\n",
    "beta = 0.20\n",
    "tau = 3\n",
    "kappa = 1\n",
    "\n",
    "sample_size = two_sample_non_inferiority(muA, muB, delta, sd, kappa, alpha, beta)\n",
    "print(sample_size)\n",
    "\n",
    "sample_size = one_sample_non_inferiority(muA, muB, delta, sd, alpha, beta) \n",
    "print(sample_size)\n",
    "\n",
    "\n",
    "sample_size = compare_k_means(muA, muB, sd, tau, alpha, beta)\n",
    "print(sample_size /2 * tau) \n",
    "\n",
    "sample_size = compare_2_means(muA, muB, sd, kappa, alpha, beta)\n",
    "print(sample_size) \n"
   ]
  },
  {
   "cell_type": "code",
   "execution_count": 34,
   "metadata": {},
   "outputs": [
    {
     "name": "stdout",
     "output_type": "stream",
     "text": [
      "1002.0\n"
     ]
    }
   ],
   "source": [
    "sample_size = two_sample_non_inferiority(60, 60, 5, 45, 1, alpha, beta)\n",
    "print(sample_size)"
   ]
  },
  {
   "cell_type": "code",
   "execution_count": null,
   "metadata": {},
   "outputs": [],
   "source": [
    "mu1 = 75 # Loop 2.0 with meal announcements\n",
    "mu0 = 75 # Loop 3.0 without meal announcements\n",
    "deltas = np.arange(3,15)\n",
    "\n",
    "alpha=0.025\n",
    "\n",
    "fig = plt.figure()\n",
    "ax = fig.add_subplot()\n",
    "ax.set_xlabel('Inferiority Margin (% TIR)')\n",
    "ax.set_ylabel('Number of Participants')\n",
    "\n",
    "sd = 13\n",
    "beta = .2\n",
    "sample_size = non_inferiority(mu1, mu0, sd, alpha, beta, deltas)\n",
    "ax.plot(deltas, sample_size, linestyle='-', label='SD = 13%, Power = 0.80')\n",
    "\n",
    "\n",
    "\n",
    "sd = 15\n",
    "beta = .2\n",
    "sample_size = non_inferiority(mu1, mu0, sd, alpha, beta, deltas)\n",
    "ax.plot(deltas, sample_size, linestyle='-', label='SD = 15%, Power = 0.80')\n",
    "sd = 13\n",
    "beta = .1\n",
    "sample_size = non_inferiority(mu1, mu0, sd, alpha, beta, deltas)\n",
    "ax.plot(deltas, sample_size, linestyle='--', label='SD = 13%, Power = 0.90')\n",
    "sd = 15\n",
    "beta = .1\n",
    "sample_size = non_inferiority(mu1, mu0, sd, alpha, beta, deltas)\n",
    "ax.plot(deltas, sample_size, linestyle='--', label='SD = 15%, Power = 0.90')\n",
    "\n",
    "d = 5\n",
    "sample_size = non_inferiority(mu1, mu0, 13, alpha, .2, d)\n",
    "print(sample_size)\n",
    "ax.scatter(d, sample_size, label=\"5% n={}\".format(int(sample_size)))\n",
    "\n",
    "d = 1/24 * 100\n",
    "sample_size = non_inferiority(mu1, mu0, 13, alpha, .2, d)\n",
    "print(sample_size)\n",
    "ax.scatter(d, sample_size, label=\"1/24 n={}\".format(int(sample_size)))\n",
    "\n",
    "d = 1.5/24 * 100\n",
    "sample_size = non_inferiority(mu1, mu0, 13, alpha, .2, d)\n",
    "print(sample_size)\n",
    "ax.scatter(d, sample_size, label=\"1.5/24 n={}\".format(int(sample_size)))\n",
    "\n",
    "d = 2/24 * 100\n",
    "sample_size = non_inferiority(mu1, mu0, 13, alpha, .2, d)\n",
    "print(sample_size)\n",
    "ax.scatter(d, sample_size, label=\"2/24 n={}\".format(int(sample_size)))\n",
    "\n",
    "d = 7 \n",
    "sample_size = non_inferiority(mu1, mu0, 15, alpha, .1, d)\n",
    "print(sample_size)\n",
    "ax.scatter(d, sample_size, label=\"7% Power = 0.90 n={}\".format(int(sample_size)))\n",
    "\n",
    "ax.legend()\n",
    "plt.show()"
   ]
  },
  {
   "cell_type": "code",
   "execution_count": 6,
   "metadata": {},
   "outputs": [
    {
     "data": {
      "text/plain": [
       "786.8089521788297"
      ]
     },
     "execution_count": 6,
     "metadata": {},
     "output_type": "execute_result"
    }
   ],
   "source": [
    "\n",
    "from statsmodels.stats.power import tt_solve_power\n",
    "\n",
    "effect_size = .1\n",
    "alpha = 0.05\n",
    "power = 0.8\n",
    "nobs = None\n",
    "\n",
    "tt_solve_power(\n",
    "    effect_size, nobs, alpha, power, alternative='two-sided'\n",
    ")"
   ]
  },
  {
   "cell_type": "code",
   "execution_count": null,
   "metadata": {},
   "outputs": [],
   "source": [
    "\n"
   ]
  }
 ],
 "metadata": {
  "kernelspec": {
   "display_name": "tidepool-data-science-simulator-dev",
   "language": "python",
   "name": "python3"
  },
  "language_info": {
   "codemirror_mode": {
    "name": "ipython",
    "version": 3
   },
   "file_extension": ".py",
   "mimetype": "text/x-python",
   "name": "python",
   "nbconvert_exporter": "python",
   "pygments_lexer": "ipython3",
   "version": "3.12.7"
  }
 },
 "nbformat": 4,
 "nbformat_minor": 2
}
